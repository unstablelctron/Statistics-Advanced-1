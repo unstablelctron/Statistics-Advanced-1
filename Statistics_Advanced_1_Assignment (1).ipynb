{
 "cells": [
  {
   "cell_type": "markdown",
   "id": "f86eac66",
   "metadata": {},
   "source": [
    "# Statistics Advanced - 1 Assignment (PW Skills)\n",
    "**Assignment Code: DA-AG-006**\n"
   ]
  },
  {
   "cell_type": "markdown",
   "id": "9840e66e",
   "metadata": {},
   "source": [
    "### Question 1: What is a random variable in probability theory?\n",
    "**Answer:** A random variable is a numerical outcome of a random phenomenon. It is a function that assigns a real number to each outcome in a sample space. Random variables are classified into discrete and continuous types depending on the nature of the outcomes."
   ]
  },
  {
   "cell_type": "markdown",
   "id": "6ba9bd63",
   "metadata": {},
   "source": [
    "### Question 2: What are the types of random variables?\n",
    "**Answer:** There are two types of random variables:\n",
    "1. **Discrete Random Variable:** Takes countable values (e.g., number of heads in coin tosses).\n",
    "2. **Continuous Random Variable:** Takes an infinite number of possible values within a given range (e.g., height, weight)."
   ]
  },
  {
   "cell_type": "markdown",
   "id": "fd08796c",
   "metadata": {},
   "source": [
    "### Question 3: Explain the difference between discrete and continuous distributions.\n",
    "**Answer:**\n",
    "- A **discrete distribution** deals with countable outcomes. It has a probability mass function (PMF).\n",
    "- A **continuous distribution** deals with outcomes that can take any value within a range. It has a probability density function (PDF)."
   ]
  },
  {
   "cell_type": "markdown",
   "id": "5b2848bf",
   "metadata": {},
   "source": [
    "### Question 4: What is a binomial distribution, and how is it used in probability?\n",
    "**Answer:** A binomial distribution describes the number of successes in a fixed number of independent Bernoulli trials, each with the same probability of success. It is used in scenarios where there are exactly two possible outcomes (success or failure)."
   ]
  },
  {
   "cell_type": "markdown",
   "id": "1e99322a",
   "metadata": {},
   "source": [
    "### Question 5: What is the standard normal distribution, and why is it important?\n",
    "**Answer:** The standard normal distribution is a special case of the normal distribution with a mean of 0 and a standard deviation of 1. It is important because it allows us to calculate probabilities and make statistical inferences using z-scores."
   ]
  },
  {
   "cell_type": "markdown",
   "id": "b9342a25",
   "metadata": {},
   "source": [
    "### Question 6: What is the Central Limit Theorem (CLT), and why is it critical in statistics?\n",
    "**Answer:** The CLT states that the sampling distribution of the sample mean approaches a normal distribution as the sample size increases, regardless of the population's distribution. This is critical for making inferences about population parameters from sample statistics."
   ]
  },
  {
   "cell_type": "markdown",
   "id": "4dc9443f",
   "metadata": {},
   "source": [
    "### Question 7: What is the significance of confidence intervals in statistical analysis?\n",
    "**Answer:** Confidence intervals provide a range of values within which the true population parameter is expected to lie with a certain level of confidence (e.g., 95%). They help quantify the uncertainty of sample estimates."
   ]
  },
  {
   "cell_type": "markdown",
   "id": "19bd8df3",
   "metadata": {},
   "source": [
    "### Question 8: What is the concept of expected value in a probability distribution?\n",
    "**Answer:** The expected value is the long-run average or mean of a random variable. It is calculated as the sum of all possible values each multiplied by its probability. It provides a measure of the center of the distribution."
   ]
  },
  {
   "cell_type": "code",
   "execution_count": 1,
   "id": "9e912a11",
   "metadata": {},
   "outputs": [
    {
     "name": "stdout",
     "output_type": "stream",
     "text": [
      "Mean: 49.99\n",
      "Standard Deviation: 4.88\n"
     ]
    },
    {
     "data": {
      "image/png": "[encoded data removed]",
      "text/plain": [
       "<Figure size 640x480 with 1 Axes>"
      ]
     },
     "metadata": {},
     "output_type": "display_data"
    }
   ],
   "source": [
    "# Question 9\n",
    "# Python code to generate 1000 random numbers from a normal distribution\n",
    "import numpy as np\n",
    "import matplotlib.pyplot as plt\n",
    "\n",
    "data = np.random.normal(loc=50, scale=5, size=1000)\n",
    "mean_val = np.mean(data)\n",
    "std_dev = np.std(data)\n",
    "\n",
    "print(f\"Mean: {mean_val:.2f}\")\n",
    "print(f\"Standard Deviation: {std_dev:.2f}\")\n",
    "\n",
    "plt.hist(data, bins=30, edgecolor='black')\n",
    "plt.title('Histogram of Normally Distributed Data')\n",
    "plt.xlabel('Value')\n",
    "plt.ylabel('Frequency')\n",
    "plt.grid(True)\n",
    "plt.show()"
   ]
  },
  {
   "cell_type": "code",
   "execution_count": 2,
   "id": "d5ea888d",
   "metadata": {},
   "outputs": [
    {
     "name": "stdout",
     "output_type": "stream",
     "text": [
      "Mean Sales: 248.25\n",
      "95% Confidence Interval: (np.float64(240.16957025147158), np.float64(256.3304297485284))\n"
     ]
    }
   ],
   "source": [
    "# Question 10\n",
    "import scipy.stats as stats\n",
    "daily_sales = [220, 245, 210, 265, 230, 250, 260, 275, 240, 255,\n",
    "               235, 260, 245, 250, 225, 270, 265, 255, 250, 260]\n",
    "\n",
    "mean_sales = np.mean(daily_sales)\n",
    "std_sales = np.std(daily_sales, ddof=1)\n",
    "n = len(daily_sales)\n",
    "conf_int = stats.t.interval(0.95, df=n-1, loc=mean_sales, scale=std_sales/np.sqrt(n))\n",
    "\n",
    "print(f\"Mean Sales: {mean_sales:.2f}\")\n",
    "print(f\"95% Confidence Interval: {conf_int}\")"
   ]
  },
  {
   "cell_type": "code",
   "execution_count": null,
   "id": "a2f0c686-3b26-4016-b0f9-a887ddd2da05",
   "metadata": {},
   "outputs": [],
   "source": []
  }
 ],
 "metadata": {
  "kernelspec": {
   "display_name": "Python 3 (ipykernel)",
   "language": "python",
   "name": "python3"
  },
  "language_info": {
   "codemirror_mode": {
    "name": "ipython",
    "version": 3
   },
   "file_extension": ".py",
   "mimetype": "text/x-python",
   "name": "python",
   "nbconvert_exporter": "python",
   "pygments_lexer": "ipython3",
   "version": "3.13.5"
  }
 },
 "nbformat": 4,
 "nbformat_minor": 5
}
